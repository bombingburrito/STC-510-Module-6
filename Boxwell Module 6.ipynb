{
 "cells": [
  {
   "cell_type": "code",
   "execution_count": 46,
   "id": "b6c0af65-4584-4704-92b8-c48fb4126de4",
   "metadata": {
    "tags": []
   },
   "outputs": [],
   "source": [
    "import xml.etree.ElementTree as ET\n",
    "import networkx as nx"
   ]
  },
  {
   "cell_type": "code",
   "execution_count": 35,
   "id": "fb1547d4-8fd2-4895-a79c-d4f691ff305e",
   "metadata": {
    "tags": []
   },
   "outputs": [],
   "source": [
    "import pandas as pd"
   ]
  },
  {
   "cell_type": "code",
   "execution_count": 4,
   "id": "22f4a958-26c9-49df-a5b5-7ca94e1a5682",
   "metadata": {
    "tags": []
   },
   "outputs": [],
   "source": [
    "import tarfile\n",
    "import urllib.request as urllib "
   ]
  },
  {
   "cell_type": "code",
   "execution_count": 28,
   "id": "87ab6596-ce72-4f5b-a556-15406019a9b6",
   "metadata": {
    "tags": []
   },
   "outputs": [],
   "source": [
    "url= 'http://www.casos.cs.cmu.edu/tools/datasets/external/greece/greece.zip'"
   ]
  },
  {
   "cell_type": "code",
   "execution_count": 1,
   "id": "dc8c1e81-422b-4d48-a29f-1f582e827b0b",
   "metadata": {
    "tags": []
   },
   "outputs": [],
   "source": [
    "from io import BytesIO\n",
    "from zipfile import ZipFile"
   ]
  },
  {
   "cell_type": "code",
   "execution_count": 33,
   "id": "f27ca3a5-b363-4880-8b51-ecdf43c2f6c2",
   "metadata": {
    "tags": []
   },
   "outputs": [
    {
     "name": "stdout",
     "output_type": "stream",
     "text": [
      "File Name                                             Modified             Size\n",
      "greece.xml                                     2017-01-18 23:15:18        17271\n"
     ]
    }
   ],
   "source": [
    "with urllib.urlopen(url) as stream:\n",
    "    with ZipFile(BytesIO(stream.read())) as archive:\n",
    "        archive.printdir()\n",
    "        gml = archive.read\n"
   ]
  },
  {
   "cell_type": "code",
   "execution_count": 49,
   "id": "abd257e6-6215-481c-95cf-a0ab5e9535c1",
   "metadata": {
    "tags": []
   },
   "outputs": [],
   "source": [
    "with open('greece.xml', 'r') as file:\n",
    "    g = file.read()"
   ]
  },
  {
   "cell_type": "code",
   "execution_count": 55,
   "id": "c3ae08ab-f272-4161-9977-4c6bf48ddcdf",
   "metadata": {
    "tags": []
   },
   "outputs": [
    {
     "name": "stdout",
     "output_type": "stream",
     "text": [
      "<?xml version=\"1.0\" encoding=\"UTF-8\" standalone=\"yes\" ?>\n",
      "<DynamicNetwork>\n",
      "<MetaNetwork>\n",
      "<propertyIdentities>\n",
      "<propertyIdentity id=\"autoCalc-componentStatistics-dyadCount\" type=\"number\" singleValued=\"false\"/>\n",
      "<propertyIdentity id=\"autoCalc-componentStatistics-isolateCount\" type=\"number\" singleValued=\"false\"/>\n",
      "<propertyIdentity id=\"autoCalc-componentStatistics-triadCount\" type=\"number\" singleValued=\"false\"/>\n",
      "<propertyIdentity id=\"autoCalc-density\" type=\"number\" singleValued=\"false\"/>\n",
      "<propertyIdentity id=\"autoCalc-densityAutoDetect\" type=\"number\" singleValued=\"false\"/>\n",
      "<propertyIdentity id=\"autoCalc-diagonalEdgeStatistics-binary\" type=\"number\" singleValued=\"false\"/>\n",
      "<propertyIdentity id=\"autoCalc-diagonalEdgeStatistics-len\" type=\"number\" singleValued=\"false\"/>\n",
      "<propertyIdentity id=\"autoCalc-diagonalEdgeStatistics-max\" type=\"number\" singleValued=\"false\"/>\n",
      "<propertyIdentity id=\"autoCalc-diagonalEdgeStatistics-min\" type=\"number\" singleValued=\"false\"/>\n",
      "<propertyIdentity id=\"autoCalc-diagonalEdgeStatistics-sum\" type=\"number\" singleValued=\"false\"/>\n",
      "<propertyIdentity id=\"autoCalc-diagonalEdgeStatistics-sumOfSquares\" type=\"number\" singleValued=\"false\"/>\n",
      "<propertyIdentity id=\"autoCalc-largeComponentStats-binary\" type=\"number\" singleValued=\"false\"/>\n",
      "<propertyIdentity id=\"autoCalc-largeComponentStats-len\" type=\"number\" singleValued=\"false\"/>\n",
      "<propertyIdentity id=\"autoCalc-largeComponentStats-max\" type=\"number\" singleValued=\"false\"/>\n",
      "<propertyIdentity id=\"autoCalc-largeComponentStats-min\" type=\"number\" singleValued=\"false\"/>\n",
      "<propertyIdentity id=\"autoCalc-largeComponentStats-sum\" type=\"number\" singleValued=\"false\"/>\n",
      "<propertyIdentity id=\"autoCalc-largeComponentStats-sumOfSquares\" type=\"number\" singleValued=\"false\"/>\n",
      "<propertyIdentity id=\"autoCalc-nonDiagonalEdgeStatistics-binary\" type=\"number\" singleValued=\"false\"/>\n",
      "<propertyIdentity id=\"autoCalc-nonDiagonalEdgeStatistics-len\" type=\"number\" singleValued=\"false\"/>\n",
      "<propertyIdentity id=\"autoCalc-nonDiagonalEdgeStatistics-max\" type=\"number\" singleValued=\"false\"/>\n",
      "<propertyIdentity id=\"autoCalc-nonDiagonalEdgeStatistics-min\" type=\"number\" singleValued=\"false\"/>\n",
      "<propertyIdentity id=\"autoCalc-nonDiagonalEdgeStatistics-sum\" type=\"number\" singleValued=\"false\"/>\n",
      "<propertyIdentity id=\"autoCalc-nonDiagonalEdgeStatistics-sumOfSquares\" type=\"number\" singleValued=\"false\"/>\n",
      "<propertyIdentity id=\"autoCalc-symmetric\" type=\"number\" singleValued=\"false\"/>\n",
      "<propertyIdentity id=\"Image Folder\" type=\"text\" singleValued=\"false\"/>\n",
      "<propertyIdentity id=\"unionCount\" type=\"number\" singleValued=\"true\"/>\n",
      "</propertyIdentities>\n",
      "<sources/>\n",
      "<property id=\"autoCalc-componentStatistics-dyadCount\" value=\"0\"/>\n",
      "<property id=\"autoCalc-componentStatistics-isolateCount\" value=\"0\"/>\n",
      "<property id=\"autoCalc-componentStatistics-triadCount\" value=\"0\"/>\n",
      "<property id=\"autoCalc-density\" value=\"0.216049382716\"/>\n",
      "<property id=\"autoCalc-density\" value=\"0.240740740741\"/>\n",
      "<property id=\"autoCalc-density\" value=\"0.111111111111\"/>\n",
      "<property id=\"autoCalc-density\" value=\"0.246913580247\"/>\n",
      "<property id=\"autoCalc-density\" value=\"0.280864197531\"/>\n",
      "<property id=\"autoCalc-densityAutoDetect\" value=\"0.216049382716\"/>\n",
      "<property id=\"autoCalc-densityAutoDetect\" value=\"0.240740740741\"/>\n",
      "<property id=\"autoCalc-densityAutoDetect\" value=\"0.111111111111\"/>\n",
      "<property id=\"autoCalc-densityAutoDetect\" value=\"0.246913580247\"/>\n",
      "<property id=\"autoCalc-densityAutoDetect\" value=\"0.280864197531\"/>\n",
      "<property id=\"autoCalc-diagonalEdgeStatistics-binary\" value=\"1\"/>\n",
      "<property id=\"autoCalc-diagonalEdgeStatistics-len\" value=\"0\"/>\n",
      "<property id=\"autoCalc-diagonalEdgeStatistics-max\" value=\"0\"/>\n",
      "<property id=\"autoCalc-diagonalEdgeStatistics-min\" value=\"0\"/>\n",
      "<property id=\"autoCalc-diagonalEdgeStatistics-sum\" value=\"0\"/>\n",
      "<property id=\"autoCalc-diagonalEdgeStatistics-sumOfSquares\" value=\"0\"/>\n",
      "<property id=\"autoCalc-largeComponentStats-binary\" value=\"0\"/>\n",
      "<property id=\"autoCalc-largeComponentStats-len\" value=\"1\"/>\n",
      "<property id=\"autoCalc-largeComponentStats-max\" value=\"20\"/>\n",
      "<property id=\"autoCalc-largeComponentStats-max\" value=\"22\"/>\n",
      "<property id=\"autoCalc-largeComponentStats-max\" value=\"32\"/>\n",
      "<property id=\"autoCalc-largeComponentStats-max\" value=\"36\"/>\n",
      "<property id=\"autoCalc-largeComponentStats-min\" value=\"20\"/>\n",
      "<property id=\"autoCalc-largeComponentStats-min\" value=\"22\"/>\n",
      "<property id=\"autoCalc-largeComponentStats-min\" value=\"32\"/>\n",
      "<property id=\"autoCalc-largeComponentStats-min\" value=\"36\"/>\n",
      "<property id=\"autoCalc-largeComponentStats-sum\" value=\"20\"/>\n",
      "<property id=\"autoCalc-largeComponentStats-sum\" value=\"22\"/>\n",
      "<property id=\"autoCalc-largeComponentStats-sum\" value=\"32\"/>\n",
      "<property id=\"autoCalc-largeComponentStats-sum\" value=\"36\"/>\n",
      "<property id=\"autoCalc-largeComponentStats-sumOfSquares\" value=\"400\"/>\n",
      "<property id=\"autoCalc-largeComponentStats-sumOfSquares\" value=\"484\"/>\n",
      "<property id=\"autoCalc-largeComponentStats-sumOfSquares\" value=\"1024\"/>\n",
      "<property id=\"autoCalc-largeComponentStats-sumOfSquares\" value=\"1296\"/>\n",
      "<property id=\"autoCalc-nonDiagonalEdgeStatistics-binary\" value=\"0\"/>\n",
      "<property id=\"autoCalc-nonDiagonalEdgeStatistics-binary\" value=\"1\"/>\n",
      "<property id=\"autoCalc-nonDiagonalEdgeStatistics-len\" value=\"70\"/>\n",
      "<property id=\"autoCalc-nonDiagonalEdgeStatistics-len\" value=\"52\"/>\n",
      "<property id=\"autoCalc-nonDiagonalEdgeStatistics-len\" value=\"36\"/>\n",
      "<property id=\"autoCalc-nonDiagonalEdgeStatistics-len\" value=\"80\"/>\n",
      "<property id=\"autoCalc-nonDiagonalEdgeStatistics-len\" value=\"91\"/>\n",
      "<property id=\"autoCalc-nonDiagonalEdgeStatistics-max\" value=\"12\"/>\n",
      "<property id=\"autoCalc-nonDiagonalEdgeStatistics-max\" value=\"1\"/>\n",
      "<property id=\"autoCalc-nonDiagonalEdgeStatistics-min\" value=\"1\"/>\n",
      "<property id=\"autoCalc-nonDiagonalEdgeStatistics-sum\" value=\"236\"/>\n",
      "<property id=\"autoCalc-nonDiagonalEdgeStatistics-sum\" value=\"52\"/>\n",
      "<property id=\"autoCalc-nonDiagonalEdgeStatistics-sum\" value=\"36\"/>\n",
      "<property id=\"autoCalc-nonDiagonalEdgeStatistics-sum\" value=\"80\"/>\n",
      "<property id=\"autoCalc-nonDiagonalEdgeStatistics-sum\" value=\"91\"/>\n",
      "<property id=\"autoCalc-nonDiagonalEdgeStatistics-sumOfSquares\" value=\"1456\"/>\n",
      "<property id=\"autoCalc-nonDiagonalEdgeStatistics-sumOfSquares\" value=\"52\"/>\n",
      "<property id=\"autoCalc-nonDiagonalEdgeStatistics-sumOfSquares\" value=\"36\"/>\n",
      "<property id=\"autoCalc-nonDiagonalEdgeStatistics-sumOfSquares\" value=\"80\"/>\n",
      "<property id=\"autoCalc-nonDiagonalEdgeStatistics-sumOfSquares\" value=\"91\"/>\n",
      "<property id=\"autoCalc-symmetric\" value=\"0\"/>\n",
      "<property id=\"Image Folder\" value=\"17NOV_GREECE_KINSHIP images\"/>\n",
      "<property id=\"unionCount\" value=\"6\"/>\n",
      "<nodes>\n",
      "<nodeclass type=\"Agent\" id=\"Agent\">\n",
      "<node id=\"1\" title=\"1\"/>\n",
      "<node id=\"2\" title=\"2\"/>\n",
      "<node id=\"3\" title=\"3\"/>\n",
      "<node id=\"4\" title=\"4\"/>\n",
      "<node id=\"5\" title=\"5\"/>\n",
      "<node id=\"6\" title=\"6\"/>\n",
      "<node id=\"7\" title=\"7\"/>\n",
      "<node id=\"8\" title=\"8\"/>\n",
      "<node id=\"9\" title=\"9\"/>\n",
      "<node id=\"10\" title=\"10\"/>\n",
      "<node id=\"11\" title=\"11\"/>\n",
      "<node id=\"12\" title=\"12\"/>\n",
      "<node id=\"13\" title=\"13\"/>\n",
      "<node id=\"14\" title=\"14\"/>\n",
      "<node id=\"15\" title=\"15\"/>\n",
      "<node id=\"16\" title=\"16\"/>\n",
      "<node id=\"17\" title=\"17\"/>\n",
      "<node id=\"18\" title=\"18\"/>\n",
      "</nodeclass>\n",
      "<nodeclass type=\"Role\" id=\"Role\">\n",
      "<node id=\"1\" title=\"1\"/>\n",
      "<node id=\"2\" title=\"2\"/>\n",
      "<node id=\"3\" title=\"3\"/>\n",
      "<node id=\"4\" title=\"4\"/>\n",
      "<node id=\"5\" title=\"5\"/>\n",
      "<node id=\"6\" title=\"6\"/>\n",
      "<node id=\"7\" title=\"7\"/>\n",
      "<node id=\"8\" title=\"8\"/>\n",
      "<node id=\"9\" title=\"9\"/>\n",
      "<node id=\"10\" title=\"10\"/>\n",
      "<node id=\"11\" title=\"11\"/>\n",
      "<node id=\"12\" title=\"12\"/>\n",
      "<node id=\"13\" title=\"13\"/>\n",
      "<node id=\"14\" title=\"14\"/>\n",
      "<node id=\"15\" title=\"15\"/>\n",
      "<node id=\"16\" title=\"16\"/>\n",
      "<node id=\"17\" title=\"17\"/>\n",
      "<node id=\"18\" title=\"18\"/>\n",
      "<node id=\"A\" title=\"A\"/>\n",
      "<node id=\"B\" title=\"B\"/>\n",
      "<node id=\"C\" title=\"C\"/>\n",
      "<node id=\"D\" title=\"D\"/>\n",
      "<node id=\"E\" title=\"E\"/>\n",
      "<node id=\"F\" title=\"F\"/>\n",
      "<node id=\"G\" title=\"G\"/>\n",
      "<node id=\"H\" title=\"H\"/>\n",
      "<node id=\"I\" title=\"I\"/>\n",
      "<node id=\"L\" title=\"L\"/>\n",
      "<node id=\"M\" title=\"M\"/>\n",
      "<node id=\"N\" title=\"N\"/>\n",
      "</nodeclass>\n",
      "</nodes>\n",
      "<networks>\n",
      "<network sourceType=\"Agent\" source=\"Agent\" targetType=\"Role\" target=\"Role\" id=\"Agent x Role\" isDirected=\"true\" isBinary=\"false\" allowSelfLoops=\"true\">\n",
      "<property id=\"autoCalc-componentStatistics-dyadCount\" value=\"0\"/>\n",
      "<property id=\"autoCalc-componentStatistics-isolateCount\" value=\"16\"/>\n",
      "<property id=\"autoCalc-componentStatistics-isolateCount\" value=\"8\"/>\n",
      "<property id=\"autoCalc-componentStatistics-isolateCount\" value=\"14\"/>\n",
      "<property id=\"autoCalc-componentStatistics-isolateCount\" value=\"4\"/>\n",
      "<property id=\"autoCalc-componentStatistics-isolateCount\" value=\"0\"/>\n",
      "<property id=\"autoCalc-componentStatistics-triadCount\" value=\"0\"/>\n",
      "<property id=\"autoCalc-density\" value=\"0.216049382716\"/>\n",
      "<property id=\"autoCalc-density\" value=\"0.240740740741\"/>\n",
      "<property id=\"autoCalc-density\" value=\"0.111111111111\"/>\n",
      "<property id=\"autoCalc-density\" value=\"0.246913580247\"/>\n",
      "<property id=\"autoCalc-density\" value=\"0.280864197531\"/>\n",
      "<property id=\"autoCalc-densityAutoDetect\" value=\"0.216049382716\"/>\n",
      "<property id=\"autoCalc-densityAutoDetect\" value=\"0.240740740741\"/>\n",
      "<property id=\"autoCalc-densityAutoDetect\" value=\"0.111111111111\"/>\n",
      "<property id=\"autoCalc-densityAutoDetect\" value=\"0.246913580247\"/>\n",
      "<property id=\"autoCalc-densityAutoDetect\" value=\"0.280864197531\"/>\n",
      "<property id=\"autoCalc-diagonalEdgeStatistics-binary\" value=\"1\"/>\n",
      "<property id=\"autoCalc-diagonalEdgeStatistics-len\" value=\"0\"/>\n",
      "<property id=\"autoCalc-diagonalEdgeStatistics-max\" value=\"0\"/>\n",
      "<property id=\"autoCalc-diagonalEdgeStatistics-min\" value=\"0\"/>\n",
      "<property id=\"autoCalc-diagonalEdgeStatistics-sum\" value=\"0\"/>\n",
      "<property id=\"autoCalc-diagonalEdgeStatistics-sumOfSquares\" value=\"0\"/>\n",
      "<property id=\"autoCalc-largeComponentStats-binary\" value=\"0\"/>\n",
      "<property id=\"autoCalc-largeComponentStats-len\" value=\"1\"/>\n",
      "<property id=\"autoCalc-largeComponentStats-max\" value=\"20\"/>\n",
      "<property id=\"autoCalc-largeComponentStats-max\" value=\"22\"/>\n",
      "<property id=\"autoCalc-largeComponentStats-max\" value=\"32\"/>\n",
      "<property id=\"autoCalc-largeComponentStats-max\" value=\"36\"/>\n",
      "<property id=\"autoCalc-largeComponentStats-min\" value=\"20\"/>\n",
      "<property id=\"autoCalc-largeComponentStats-min\" value=\"22\"/>\n",
      "<property id=\"autoCalc-largeComponentStats-min\" value=\"32\"/>\n",
      "<property id=\"autoCalc-largeComponentStats-min\" value=\"36\"/>\n",
      "<property id=\"autoCalc-largeComponentStats-sum\" value=\"20\"/>\n",
      "<property id=\"autoCalc-largeComponentStats-sum\" value=\"22\"/>\n",
      "<property id=\"autoCalc-largeComponentStats-sum\" value=\"32\"/>\n",
      "<property id=\"autoCalc-largeComponentStats-sum\" value=\"36\"/>\n",
      "<property id=\"autoCalc-largeComponentStats-sumOfSquares\" value=\"400\"/>\n",
      "<property id=\"autoCalc-largeComponentStats-sumOfSquares\" value=\"484\"/>\n",
      "<property id=\"autoCalc-largeComponentStats-sumOfSquares\" value=\"1024\"/>\n",
      "<property id=\"autoCalc-largeComponentStats-sumOfSquares\" value=\"1296\"/>\n",
      "<property id=\"autoCalc-nonDiagonalEdgeStatistics-binary\" value=\"0\"/>\n",
      "<property id=\"autoCalc-nonDiagonalEdgeStatistics-binary\" value=\"1\"/>\n",
      "<property id=\"autoCalc-nonDiagonalEdgeStatistics-len\" value=\"70\"/>\n",
      "<property id=\"autoCalc-nonDiagonalEdgeStatistics-len\" value=\"52\"/>\n",
      "<property id=\"autoCalc-nonDiagonalEdgeStatistics-len\" value=\"36\"/>\n",
      "<property id=\"autoCalc-nonDiagonalEdgeStatistics-len\" value=\"80\"/>\n",
      "<property id=\"autoCalc-nonDiagonalEdgeStatistics-len\" value=\"91\"/>\n",
      "<property id=\"autoCalc-nonDiagonalEdgeStatistics-max\" value=\"12\"/>\n",
      "<property id=\"autoCalc-nonDiagonalEdgeStatistics-max\" value=\"1\"/>\n",
      "<property id=\"autoCalc-nonDiagonalEdgeStatistics-min\" value=\"1\"/>\n",
      "<property id=\"autoCalc-nonDiagonalEdgeStatistics-sum\" value=\"236\"/>\n",
      "<property id=\"autoCalc-nonDiagonalEdgeStatistics-sum\" value=\"52\"/>\n",
      "<property id=\"autoCalc-nonDiagonalEdgeStatistics-sum\" value=\"36\"/>\n",
      "<property id=\"autoCalc-nonDiagonalEdgeStatistics-sum\" value=\"80\"/>\n",
      "<property id=\"autoCalc-nonDiagonalEdgeStatistics-sum\" value=\"91\"/>\n",
      "<property id=\"autoCalc-nonDiagonalEdgeStatistics-sumOfSquares\" value=\"1456\"/>\n",
      "<property id=\"autoCalc-nonDiagonalEdgeStatistics-sumOfSquares\" value=\"52\"/>\n",
      "<property id=\"autoCalc-nonDiagonalEdgeStatistics-sumOfSquares\" value=\"36\"/>\n",
      "<property id=\"autoCalc-nonDiagonalEdgeStatistics-sumOfSquares\" value=\"80\"/>\n",
      "<property id=\"autoCalc-nonDiagonalEdgeStatistics-sumOfSquares\" value=\"91\"/>\n",
      "<property id=\"autoCalc-symmetric\" value=\"0\"/>\n",
      "<link source=\"1\" target=\"1\" value=\"12\"/>\n",
      "<link source=\"1\" target=\"2\"/>\n",
      "<link source=\"1\" target=\"3\"/>\n",
      "<link source=\"1\" target=\"4\"/>\n",
      "<link source=\"1\" target=\"5\"/>\n",
      "<link source=\"1\" target=\"6\"/>\n",
      "<link source=\"1\" target=\"7\"/>\n",
      "<link source=\"1\" target=\"8\"/>\n",
      "<link source=\"1\" target=\"9\"/>\n",
      "<link source=\"1\" target=\"10\"/>\n",
      "<link source=\"1\" target=\"11\"/>\n",
      "<link source=\"1\" target=\"12\"/>\n",
      "<link source=\"1\" target=\"13\"/>\n",
      "<link source=\"1\" target=\"14\"/>\n",
      "<link source=\"1\" target=\"15\"/>\n",
      "<link source=\"1\" target=\"16\"/>\n",
      "<link source=\"1\" target=\"17\"/>\n",
      "<link source=\"1\" target=\"18\"/>\n",
      "<link source=\"1\" target=\"A\"/>\n",
      "<link source=\"1\" target=\"B\"/>\n",
      "<link source=\"1\" target=\"C\"/>\n",
      "<link source=\"1\" target=\"D\"/>\n",
      "<link source=\"1\" target=\"E\"/>\n",
      "<link source=\"1\" target=\"F\"/>\n",
      "<link source=\"1\" target=\"G\"/>\n",
      "<link source=\"1\" target=\"H\"/>\n",
      "<link source=\"1\" target=\"I\"/>\n",
      "<link source=\"1\" target=\"L\"/>\n",
      "<link source=\"1\" target=\"M\"/>\n",
      "<link source=\"1\" target=\"N\"/>\n",
      "<link source=\"2\" target=\"1\"/>\n",
      "<link source=\"3\" target=\"1\"/>\n",
      "<link source=\"3\" target=\"3\" value=\"12\"/>\n",
      "<link source=\"3\" target=\"4\"/>\n",
      "<link source=\"3\" target=\"5\"/>\n",
      "<link source=\"3\" target=\"6\"/>\n",
      "<link source=\"3\" target=\"7\"/>\n",
      "<link source=\"3\" target=\"8\"/>\n",
      "<link source=\"3\" target=\"12\"/>\n",
      "<link source=\"3\" target=\"16\"/>\n",
      "<link source=\"3\" target=\"17\"/>\n",
      "<link source=\"3\" target=\"18\"/>\n",
      "<link source=\"3\" target=\"A\"/>\n",
      "<link source=\"3\" target=\"B\"/>\n",
      "<link source=\"3\" target=\"C\"/>\n",
      "<link source=\"3\" target=\"D\"/>\n",
      "<link source=\"3\" target=\"E\"/>\n",
      "<link source=\"3\" target=\"F\"/>\n",
      "<link source=\"3\" target=\"G\"/>\n",
      "<link source=\"3\" target=\"H\"/>\n",
      "<link source=\"3\" target=\"I\"/>\n",
      "<link source=\"3\" target=\"L\"/>\n",
      "<link source=\"3\" target=\"M\"/>\n",
      "<link source=\"3\" target=\"N\"/>\n",
      "<link source=\"4\" target=\"1\"/>\n",
      "<link source=\"4\" target=\"3\"/>\n",
      "<link source=\"4\" target=\"4\" value=\"10\"/>\n",
      "<link source=\"4\" target=\"5\"/>\n",
      "<link source=\"4\" target=\"6\"/>\n",
      "<link source=\"4\" target=\"7\"/>\n",
      "<link source=\"4\" target=\"8\"/>\n",
      "<link source=\"4\" target=\"12\"/>\n",
      "<link source=\"4\" target=\"16\"/>\n",
      "<link source=\"4\" target=\"17\"/>\n",
      "<link source=\"4\" target=\"18\"/>\n",
      "<link source=\"4\" target=\"A\"/>\n",
      "<link source=\"4\" target=\"D\"/>\n",
      "<link source=\"4\" target=\"E\"/>\n",
      "<link source=\"4\" target=\"F\"/>\n",
      "<link source=\"4\" target=\"G\"/>\n",
      "<link source=\"4\" target=\"H\"/>\n",
      "<link source=\"4\" target=\"I\"/>\n",
      "<link source=\"4\" target=\"L\"/>\n",
      "<link source=\"4\" target=\"M\"/>\n",
      "<link source=\"4\" target=\"N\"/>\n",
      "<link source=\"5\" target=\"1\"/>\n",
      "<link source=\"5\" target=\"3\"/>\n",
      "<link source=\"5\" target=\"4\"/>\n",
      "<link source=\"5\" target=\"5\" value=\"3\"/>\n",
      "<link source=\"5\" target=\"6\"/>\n",
      "<link source=\"5\" target=\"18\"/>\n",
      "<link source=\"5\" target=\"A\"/>\n",
      "<link source=\"5\" target=\"B\"/>\n",
      "<link source=\"5\" target=\"D\"/>\n",
      "<link source=\"6\" target=\"1\"/>\n",
      "<link source=\"6\" target=\"3\"/>\n",
      "<link source=\"6\" target=\"4\"/>\n",
      "<link source=\"6\" target=\"5\"/>\n",
      "<link source=\"6\" target=\"6\" value=\"5\"/>\n",
      "<link source=\"6\" target=\"8\"/>\n",
      "<link source=\"6\" target=\"18\"/>\n",
      "<link source=\"6\" target=\"A\"/>\n",
      "<link source=\"6\" target=\"B\"/>\n",
      "<link source=\"6\" target=\"C\"/>\n",
      "<link source=\"6\" target=\"D\"/>\n",
      "<link source=\"6\" target=\"F\"/>\n",
      "<link source=\"7\" target=\"1\"/>\n",
      "<link source=\"7\" target=\"3\"/>\n",
      "<link source=\"7\" target=\"4\"/>\n",
      "<link source=\"7\" target=\"7\" value=\"2\"/>\n",
      "<link source=\"7\" target=\"15\"/>\n",
      "<link source=\"7\" target=\"18\"/>\n",
      "<link source=\"7\" target=\"M\"/>\n",
      "<link source=\"7\" target=\"N\"/>\n",
      "<link source=\"8\" target=\"1\"/>\n",
      "<link source=\"8\" target=\"3\"/>\n",
      "<link source=\"8\" target=\"4\"/>\n",
      "<link source=\"8\" target=\"6\"/>\n",
      "<link source=\"8\" target=\"8\" value=\"2\"/>\n",
      "<link source=\"8\" target=\"9\"/>\n",
      "<link source=\"8\" target=\"18\"/>\n",
      "<link source=\"8\" target=\"F\"/>\n",
      "<link source=\"8\" target=\"G\"/>\n",
      "<link source=\"9\" target=\"1\"/>\n",
      "<link source=\"9\" target=\"8\"/>\n",
      "<link source=\"10\" target=\"1\"/>\n",
      "<link source=\"10\" target=\"11\"/>\n",
      "<link source=\"10\" target=\"13\"/>\n",
      "<link source=\"11\" target=\"1\"/>\n",
      "<link source=\"11\" target=\"10\"/>\n",
      "<link source=\"11\" target=\"13\"/>\n",
      "<link source=\"12\" target=\"1\"/>\n",
      "<link source=\"12\" target=\"3\"/>\n",
      "<link source=\"12\" target=\"4\"/>\n",
      "<link source=\"12\" target=\"12\"/>\n",
      "<link source=\"12\" target=\"17\"/>\n",
      "<link source=\"12\" target=\"E\"/>\n",
      "<link source=\"13\" target=\"1\"/>\n",
      "<link source=\"13\" target=\"10\"/>\n",
      "<link source=\"13\" target=\"11\"/>\n",
      "<link source=\"14\" target=\"1\"/>\n",
      "<link source=\"15\" target=\"1\"/>\n",
      "<link source=\"15\" target=\"7\"/>\n",
      "<link source=\"16\" target=\"1\"/>\n",
      "<link source=\"16\" target=\"3\"/>\n",
      "<link source=\"16\" target=\"4\"/>\n",
      "<link source=\"17\" target=\"1\"/>\n",
      "<link source=\"17\" target=\"3\"/>\n",
      "<link source=\"17\" target=\"4\"/>\n",
      "<link source=\"17\" target=\"12\"/>\n",
      "<link source=\"17\" target=\"17\" value=\"2\"/>\n",
      "<link source=\"17\" target=\"E\"/>\n",
      "<link source=\"17\" target=\"L\"/>\n",
      "<link source=\"18\" target=\"1\"/>\n",
      "<link source=\"18\" target=\"3\"/>\n",
      "<link source=\"18\" target=\"4\"/>\n",
      "<link source=\"18\" target=\"5\"/>\n",
      "<link source=\"18\" target=\"6\"/>\n",
      "<link source=\"18\" target=\"7\"/>\n",
      "<link source=\"18\" target=\"8\"/>\n",
      "<link source=\"18\" target=\"18\" value=\"3\"/>\n",
      "<link source=\"18\" target=\"B\"/>\n",
      "<link source=\"18\" target=\"D\"/>\n",
      "<link source=\"18\" target=\"G\"/>\n",
      "</network>\n",
      "</networks>\n",
      "</MetaNetwork>\n",
      "</DynamicNetwork>\n",
      "\n"
     ]
    }
   ],
   "source": [
    "print(g)"
   ]
  },
  {
   "cell_type": "code",
   "execution_count": 196,
   "id": "15806b31-f300-4cb5-ab02-38a08f227fb9",
   "metadata": {
    "jupyter": {
     "source_hidden": true
    },
    "tags": []
   },
   "outputs": [],
   "source": [
    "nodes = [\n",
    "{\"node\":\"1\", \"title\":\"1\"},\n",
    "{\"node\":\"2\", \"title\":\"2\"},\n",
    "{\"node\":\"3\", \"title\":\"3\"},\n",
    "{\"node\":\"4\", \"title\":\"4\"},\n",
    "{\"node\":\"5\", \"title\":\"5\"},\n",
    "{\"node\":\"6\", \"title\":\"6\"},\n",
    "{\"node\":\"7\", \"title\":\"7\"},\n",
    "{\"node\":\"8\", \"title\":\"8\"},\n",
    "{\"node\":\"9\", \"title\":\"9\"},\n",
    "{\"node\":\"10\", \"title\":\"10\"},\n",
    "{\"node\":\"11\", \"title\":\"11\"},\n",
    "{\"node\":\"12\", \"title\":\"12\"},\n",
    "{\"node\":\"13\", \"title\":\"13\"},\n",
    "{\"node\":\"14\", \"title\":\"14\"},\n",
    "{\"node\":\"15\", \"title\":\"15\"},\n",
    "{\"node\":\"16\", \"title\":\"16\"},\n",
    "{\"node\":\"17\", \"title\":\"17\"},\n",
    "{\"node\":\"18\", \"title\":\"18\"},\n",
    "{\"node\":\"A\", \"title\":\"A\"},\n",
    "{\"node\":\"B\", \"title\":\"B\"},\n",
    "{\"node\":\"C\", \"title\":\"C\"},\n",
    "{\"node\":\"D\", \"title\":\"D\"},\n",
    "{\"node\":\"E\", \"title\":\"E\"},\n",
    "{\"node\":\"F\", \"title\":\"F\"},\n",
    "{\"node\":\"G\", \"title\":\"G\"},\n",
    "{\"node\":\"H\", \"title\":\"H\"},\n",
    "{\"node\":\"I\", \"title\":\"I\"},\n",
    "{\"node\":\"L\", \"title\":\"L\"},\n",
    "{\"node\":\"M\", \"title\":\"M\"},\n",
    "{\"node\":\"N\", \"title\":\"N\"}]"
   ]
  },
  {
   "cell_type": "code",
   "execution_count": 192,
   "id": "1c488d5a-5cb7-45a1-a6e6-009f388e3350",
   "metadata": {
    "tags": []
   },
   "outputs": [
    {
     "ename": "AttributeError",
     "evalue": "'list' object has no attribute 'replace'",
     "output_type": "error",
     "traceback": [
      "\u001b[1;31m---------------------------------------------------------------------------\u001b[0m",
      "\u001b[1;31mAttributeError\u001b[0m                            Traceback (most recent call last)",
      "Cell \u001b[1;32mIn[192], line 1\u001b[0m\n\u001b[1;32m----> 1\u001b[0m \u001b[43mnodes\u001b[49m\u001b[38;5;241;43m.\u001b[39;49m\u001b[43mreplace\u001b[49m(\u001b[38;5;124m'\u001b[39m\u001b[38;5;124mnode\u001b[39m\u001b[38;5;124m'\u001b[39m, \u001b[38;5;124m'\u001b[39m\u001b[38;5;124m\"\u001b[39m\u001b[38;5;124mnode\u001b[39m\u001b[38;5;124m\"\u001b[39m\u001b[38;5;124m'\u001b[39m)\n",
      "\u001b[1;31mAttributeError\u001b[0m: 'list' object has no attribute 'replace'"
     ]
    }
   ],
   "source": []
  },
  {
   "cell_type": "code",
   "execution_count": 66,
   "id": "6c1d1cc0-c8da-44fc-8cff-c042ad38c7d6",
   "metadata": {
    "tags": []
   },
   "outputs": [],
   "source": [
    "nodes = [\n",
    "{node:\"1\"},\n",
    "{node:\"2\"},\n",
    "{node:\"3\"},\n",
    "{node:\"4\"},\n",
    "{node:\"5\"},\n",
    "{node:\"6\"},\n",
    "{node:\"7\"},\n",
    "{node:\"8\"},\n",
    "{node:\"9\"},\n",
    "{node:\"10\"},\n",
    "{node:\"11\"},\n",
    "{node:\"12\"},\n",
    "{node:\"13\"},\n",
    "{node:\"14\"},\n",
    "{node:\"15\"},\n",
    "{node:\"16\"},\n",
    "{node:\"17\"},\n",
    "{node:\"18\"},\n",
    "{node:\"A\"},\n",
    "{node:\"B\"},\n",
    "{node:\"C\"},\n",
    "{node:\"D\"},\n",
    "{node:\"E\"},\n",
    "{node:\"F\"},\n",
    "{node:\"G\"},\n",
    "{node:\"H\"},\n",
    "{node:\"I\"},\n",
    "{node:\"L\"},\n",
    "{node:\"M\"},\n",
    "{node:\"N\"}]"
   ]
  },
  {
   "cell_type": "code",
   "execution_count": 166,
   "id": "190c361c-23dd-4c79-b64b-feab692533fc",
   "metadata": {
    "tags": []
   },
   "outputs": [
    {
     "data": {
      "text/plain": [
       "list"
      ]
     },
     "execution_count": 166,
     "metadata": {},
     "output_type": "execute_result"
    }
   ],
   "source": [
    "type(nodes)"
   ]
  },
  {
   "cell_type": "code",
   "execution_count": 136,
   "id": "d12321f9-0e64-4386-b4ed-60e8f3291f4a",
   "metadata": {
    "jupyter": {
     "source_hidden": true
    },
    "tags": []
   },
   "outputs": [],
   "source": [
    "edges = '''\n",
    "{source=\"1\" target=\"1\"},\n",
    " '{source=\"1\", target=\"2\"},\n",
    " '{source=\"1\", target=\"3\"},\n",
    " '{source=\"1\", target=\"4\"},\n",
    " '{source=\"1\", target=\"5\"},\n",
    " '{source=\"1\", target=\"6\"},\n",
    " '{source=\"1\", target=\"7\"},\n",
    " '{source=\"1\", target=\"8\"},\n",
    " '{source=\"1\", target=\"9\"},\n",
    " '{source=\"1\", target=\"10\"},\n",
    " '{source=\"1\", target=\"11\"},\n",
    " '{source=\"1\", target=\"12\"},\n",
    " '{source=\"1\", target=\"13\"},\n",
    " '{source=\"1\", target=\"14\"},\n",
    " '{source=\"1\", target=\"15\"},\n",
    " '{source=\"1\", target=\"16\"},\n",
    " '{source=\"1\", target=\"17\"},\n",
    " '{source=\"1\", target=\"18\"},\n",
    " '{source=\"1\", target=\"A\"},\n",
    " '{source=\"1\", target=\"B\"},\n",
    " '{source=\"1\", target=\"C\"},\n",
    " '{source=\"1\", target=\"D\"},\n",
    " '{source=\"1\", target=\"E\"},\n",
    " '{source=\"1\", target=\"F\"},\n",
    " '{source=\"1\", target=\"G\"},\n",
    " '{source=\"1\", target=\"H\"},\n",
    " '{source=\"1\", target=\"I\"},\n",
    " '{source=\"1\", target=\"L\"},\n",
    " '{source=\"1\", target=\"M\"},\n",
    " '{source=\"1\", target=\"N\"},\n",
    " '{source=\"2\", target=\"1\"},\n",
    " '{source=\"3\", target=\"1\"},\n",
    " '{source=\"3\", target=\"3\"},\n",
    " '{source=\"3\", target=\"4\"},\n",
    " '{source=\"3\", target=\"5\"},\n",
    " '{source=\"3\", target=\"6\"},\n",
    " '{source=\"3\", target=\"7\"},\n",
    " '{source=\"3\", target=\"8\"},\n",
    " '{source=\"3\", target=\"12\"},\n",
    " '{source=\"3\", target=\"16\"},\n",
    " '{source=\"3\", target=\"17\"},\n",
    " '{source=\"3\", target=\"18\"},\n",
    " '{source=\"3\", target=\"A\"',\n",
    " '{source=\"3\", target=\"B\"',\n",
    " '{source=\"3\", target=\"C\"',\n",
    " 'source=\"3\", target=\"D\"',\n",
    " 'source=\"3\", target=\"E\"',\n",
    " 'source=\"3\", target=\"F\"',\n",
    " 'source=\"3\", target=\"G\"',\n",
    " 'source=\"3\", target=\"H\"',\n",
    " 'source=\"3\", target=\"I\"',\n",
    " 'source=\"3\", target=\"L\"',\n",
    " 'source=\"3\", target=\"M\"',\n",
    " 'source=\"3\", target=\"N\"',\n",
    " 'source=\"4\", target=\"1\"',\n",
    " 'source=\"4\", target=\"3\"',\n",
    " 'source=\"4\", target=\"4\"',\n",
    " 'source=\"4\", target=\"5\"',\n",
    " 'source=\"4\", target=\"6\"',\n",
    " 'source=\"4\", target=\"7\"',\n",
    " 'source=\"4\", target=\"8\"',\n",
    " 'source=\"4\", target=\"12\"',\n",
    " 'source=\"4\", target=\"16\"',\n",
    " 'source=\"4\", target=\"17\"',\n",
    " 'source=\"4\", target=\"18\"',\n",
    " 'source=\"4\", target=\"A\"',\n",
    " 'source=\"4\", target=\"D\"',\n",
    " 'source=\"4\", target=\"E\"',\n",
    " 'source=\"4\", target=\"F\"',\n",
    " 'source=\"4\", target=\"G\"',\n",
    " 'source=\"4\", target=\"H\"',\n",
    " 'source=\"4\", target=\"I\"',\n",
    " 'source=\"4\", target=\"L\"',\n",
    " 'source=\"4\", target=\"M\"',\n",
    " 'source=\"4\", target=\"N\"',\n",
    " 'source=\"5\", target=\"1\"',\n",
    " 'source=\"5\", target=\"3\"',\n",
    " 'source=\"5\", target=\"4\"',\n",
    " source=\"5\", target=\"5\"',\n",
    " source=\"5\", target=\"6\"',\n",
    " source=\"5\", target=\"18\"',\n",
    " source=\"5\", target=\"A\"',\n",
    " source=\"5\", target=\"B\"',\n",
    " source=\"5\", target=\"D\"',\n",
    " source=\"6\", target=\"1\"',\n",
    " source=\"6\", target=\"3\"',\n",
    " source=\"6\", target=\"4\"',\n",
    " source=\"6\", target=\"5\"',\n",
    " source=\"6\", target=\"6\"',\n",
    " source=\"6\", target=\"8\"',\n",
    " source=\"6\", target=\"18\"',\n",
    " source=\"6\", target=\"A\"',\n",
    " source=\"6\", target=\"B\"',\n",
    " source=\"6\", target=\"C\"',\n",
    " source=\"6\", target=\"D\"',\n",
    " source=\"6\", target=\"F\"',\n",
    " source=\"7\", target=\"1\"',\n",
    " source=\"7\", target=\"3\"',\n",
    " source=\"7\", target=\"4\"',\n",
    " source=\"7\", target=\"7\"',\n",
    " source=\"7\", target=\"15\"',\n",
    " source=\"7\", target=\"18\"',\n",
    " source=\"7\", target=\"M\"',\n",
    " source=\"7\", target=\"N\"',\n",
    " source=\"8\", target=\"1\"',\n",
    " source=\"8\", target=\"3\"',\n",
    " source=\"8\", target=\"4\"',\n",
    " source=\"8\", target=\"6\"',\n",
    " source=\"8\", target=\"8\"',\n",
    " source=\"8\", target=\"9\"',\n",
    " source=\"8\", target=\"18\"',\n",
    " source=\"8\", target=\"F\"',\n",
    " source=\"8\", target=\"G\"',\n",
    " source=\"9\", target=\"1\"',\n",
    " source=\"9\", target=\"8\"',\n",
    " source=\"10\", target=\"1\"',\n",
    " source=\"10\", target=\"11\"',\n",
    " source=\"10\", target=\"13\"',\n",
    " source=\"11\", target=\"1\"',\n",
    " source=\"11\", target=\"10\"',\n",
    " source=\"11\", target=\"13\"',\n",
    " source=\"12\", target=\"1\"',\n",
    " source=\"12\", target=\"3\"',\n",
    " source=\"12\", target=\"4\"',\n",
    " source=\"12\", target=\"12\"',\n",
    " source=\"12\", target=\"17\"',\n",
    " source=\"12\", target=\"E\"',\n",
    " source=\"13\", target=\"1\"',\n",
    " source=\"13\", target=\"10\"',\n",
    " source=\"13\", target=\"11\"',\n",
    " source=\"14\", target=\"1\"',\n",
    " source=\"15\", target=\"1\"',\n",
    " source=\"15\", target=\"7\"',\n",
    " source=\"16\", target=\"1\"',\n",
    " source=\"16\", target=\"3\"',\n",
    " source=\"16\", target=\"4\"',\n",
    " source=\"17\", target=\"1\"',\n",
    " source=\"17\", target=\"3\"',\n",
    " source=\"17\", target=\"4\"',\n",
    " source=\"17\", target=\"12\"',\n",
    " source=\"17\", target=\"17\"',\n",
    " source=\"17\", target=\"E\"',\n",
    " source=\"17\", target=\"L\"',\n",
    " source=\"18\", target=\"1\"',\n",
    " source=\"18\", target=\"3\"',\n",
    " source=\"18\", target=\"4\"',\n",
    " source=\"18\", target=\"5\"',\n",
    " source=\"18\", target=\"6\"',\n",
    " source=\"18\", target=\"7\"',\n",
    " source=\"18\", target=\"8\"',\n",
    " source=\"18\", target=\"18\"',\n",
    " source= \"18\", target=\"B\"',\n",
    "'''"
   ]
  },
  {
   "cell_type": "code",
   "execution_count": 138,
   "id": "497b689e-6599-4f6f-9986-804f4339b09a",
   "metadata": {
    "collapsed": true,
    "jupyter": {
     "outputs_hidden": true,
     "source_hidden": true
    },
    "tags": []
   },
   "outputs": [
    {
     "data": {
      "text/plain": [
       "'((\"1\" \"1\"), \\'((\"1\", \"2\"), \\'((\"1\", \"3\"), \\'((\"1\", \"4\"), \\'((\"1\", \"5\"), \\'((\"1\", \"6\"), \\'((\"1\", \"7\"), \\'((\"1\", \"8\"), \\'((\"1\", \"9\"), \\'((\"1\", \"10\"), \\'((\"1\", \"11\"), \\'((\"1\", \"12\"), \\'((\"1\", \"13\"), \\'((\"1\", \"14\"), \\'((\"1\", \"15\"), \\'((\"1\", \"16\"), \\'((\"1\", \"17\"), \\'((\"1\", \"18\"), \\'((\"1\", \"A\"), \\'((\"1\", \"B\"), \\'((\"1\", \"C\"), \\'((\"1\", \"D\"), \\'((\"1\", \"E\"), \\'((\"1\", \"F\"), \\'((\"1\", \"G\"), \\'((\"1\", \"H\"), \\'((\"1\", \"I\"), \\'((\"1\", \"L\"), \\'((\"1\", \"M\"), \\'((\"1\", \"N\"), \\'((\"2\", \"1\"), \\'((\"3\", \"1\"), \\'((\"3\", \"3\"), \\'((\"3\", \"4\"), \\'((\"3\", \"5\"), \\'((\"3\", \"6\"), \\'((\"3\", \"7\"), \\'((\"3\", \"8\"), \\'((\"3\", \"12\"), \\'((\"3\", \"16\"), \\'((\"3\", \"17\"), \\'((\"3\", \"18\"), \\'((\"3\", \"A\"\\', \\'((\"3\", \"B\"\\', \\'((\"3\", \"C\"\\', \\'(\"3\", \"D\"\\', \\'(\"3\", \"E\"\\', \\'(\"3\", \"F\"\\', \\'(\"3\", \"G\"\\', \\'(\"3\", \"H\"\\', \\'(\"3\", \"I\"\\', \\'(\"3\", \"L\"\\', \\'(\"3\", \"M\"\\', \\'(\"3\", \"N\"\\', \\'(\"4\", \"1\"\\', \\'(\"4\", \"3\"\\', \\'(\"4\", \"4\"\\', \\'(\"4\", \"5\"\\', \\'(\"4\", \"6\"\\', \\'(\"4\", \"7\"\\', \\'(\"4\", \"8\"\\', \\'(\"4\", \"12\"\\', \\'(\"4\", \"16\"\\', \\'(\"4\", \"17\"\\', \\'(\"4\", \"18\"\\', \\'(\"4\", \"A\"\\', \\'(\"4\", \"D\"\\', \\'(\"4\", \"E\"\\', \\'(\"4\", \"F\"\\', \\'(\"4\", \"G\"\\', \\'(\"4\", \"H\"\\', \\'(\"4\", \"I\"\\', \\'(\"4\", \"L\"\\', \\'(\"4\", \"M\"\\', \\'(\"4\", \"N\"\\', \\'(\"5\", \"1\"\\', \\'(\"5\", \"3\"\\', \\'(\"5\", \"4\"\\', (\"5\", \"5\"\\', (\"5\", \"6\"\\', (\"5\", \"18\"\\', (\"5\", \"A\"\\', (\"5\", \"B\"\\', (\"5\", \"D\"\\', (\"6\", \"1\"\\', (\"6\", \"3\"\\', (\"6\", \"4\"\\', (\"6\", \"5\"\\', (\"6\", \"6\"\\', (\"6\", \"8\"\\', (\"6\", \"18\"\\', (\"6\", \"A\"\\', (\"6\", \"B\"\\', (\"6\", \"C\"\\', (\"6\", \"D\"\\', (\"6\", \"F\"\\', (\"7\", \"1\"\\', (\"7\", \"3\"\\', (\"7\", \"4\"\\', (\"7\", \"7\"\\', (\"7\", \"15\"\\', (\"7\", \"18\"\\', (\"7\", \"M\"\\', (\"7\", \"N\"\\', (\"8\", \"1\"\\', (\"8\", \"3\"\\', (\"8\", \"4\"\\', (\"8\", \"6\"\\', (\"8\", \"8\"\\', (\"8\", \"9\"\\', (\"8\", \"18\"\\', (\"8\", \"F\"\\', (\"8\", \"G\"\\', (\"9\", \"1\"\\', (\"9\", \"8\"\\', (\"10\", \"1\"\\', (\"10\", \"11\"\\', (\"10\", \"13\"\\', (\"11\", \"1\"\\', (\"11\", \"10\"\\', (\"11\", \"13\"\\', (\"12\", \"1\"\\', (\"12\", \"3\"\\', (\"12\", \"4\"\\', (\"12\", \"12\"\\', (\"12\", \"17\"\\', (\"12\", \"E\"\\', (\"13\", \"1\"\\', (\"13\", \"10\"\\', (\"13\", \"11\"\\', (\"14\", \"1\"\\', (\"15\", \"1\"\\', (\"15\", \"7\"\\', (\"16\", \"1\"\\', (\"16\", \"3\"\\', (\"16\", \"4\"\\', (\"17\", \"1\"\\', (\"17\", \"3\"\\', (\"17\", \"4\"\\', (\"17\", \"12\"\\', (\"17\", \"17\"\\', (\"17\", \"E\"\\', (\"17\", \"L\"\\', (\"18\", \"1\"\\', (\"18\", \"3\"\\', (\"18\", \"4\"\\', (\"18\", \"5\"\\', (\"18\", \"6\"\\', (\"18\", \"7\"\\', (\"18\", \"8\"\\', (\"18\", \"18\"\\', ( 18, \"B\"\\','"
      ]
     },
     "execution_count": 138,
     "metadata": {},
     "output_type": "execute_result"
    }
   ],
   "source": [
    "edges.replace(\"\\n\", \"\").replace(\"source=\", \"(\").replace(\"target=\", \"\").replace(\"{\", \"(\").replace(\"}\", \")\") "
   ]
  },
  {
   "cell_type": "code",
   "execution_count": 99,
   "id": "37446c1e-aa30-4e35-a28e-361b376814b0",
   "metadata": {
    "jupyter": {
     "source_hidden": true
    },
    "tags": []
   },
   "outputs": [],
   "source": [
    "auto = '''\n",
    "<linksource=\"1\" target=\"1\"/>\n",
    "<linksource=\"1\" target=\"2\"/>\n",
    "<linksource=\"1\" target=\"3\"/>\n",
    "<link source=\"1\" target=\"4\"/>\n",
    "<link source=\"1\" target=\"5\"/>\n",
    "<link source=\"1\" target=\"6\"/>\n",
    "<link source=\"1\" target=\"7\"/>\n",
    "<link source=\"1\" target=\"8\"/>\n",
    "<link source=\"1\" target=\"9\"/>\n",
    "<link source=\"1\" target=\"10\"/>\n",
    "<link source=\"1\" target=\"11\"/>\n",
    "<link source=\"1\" target=\"12\"/>\n",
    "<link source=\"1\" target=\"13\"/>\n",
    "<link source=\"1\" target=\"14\"/>\n",
    "<link source=\"1\" target=\"15\"/>\n",
    "<link source=\"1\" target=\"16\"/>\n",
    "<link source=\"1\" target=\"17\"/>\n",
    "<link source=\"1\" target=\"18\"/>\n",
    "<link source=\"1\" target=\"A\"/>\n",
    "<link source=\"1\" target=\"B\"/>\n",
    "<link source=\"1\" target=\"C\"/>\n",
    "<link source=\"1\" target=\"D\"/>\n",
    "<link source=\"1\" target=\"E\"/>\n",
    "<link source=\"1\" target=\"F\"/>\n",
    "<link source=\"1\" target=\"G\"/>\n",
    "<link source=\"1\" target=\"H\"/>\n",
    "<link source=\"1\" target=\"I\"/>\n",
    "<link source=\"1\" target=\"L\"/>\n",
    "<link source=\"1\" target=\"M\"/>\n",
    "<link source=\"1\" target=\"N\"/>\n",
    "<link source=\"2\" target=\"1\"/>\n",
    "<link source=\"3\" target=\"1\"/>\n",
    "<link source=\"3\" target=\"3\"/>\n",
    "<link source=\"3\" target=\"4\"/>\n",
    "<link source=\"3\" target=\"5\"/>\n",
    "<link source=\"3\" target=\"6\"/>\n",
    "<link source=\"3\" target=\"7\"/>\n",
    "<link source=\"3\" target=\"8\"/>\n",
    "<link source=\"3\" target=\"12\"/>\n",
    "<link source=\"3\" target=\"16\"/>\n",
    "<link source=\"3\" target=\"17\"/>\n",
    "<link source=\"3\" target=\"18\"/>\n",
    "<link source=\"3\" target=\"A\"/>\n",
    "<link source=\"3\" target=\"B\"/>\n",
    "<link source=\"3\" target=\"C\"/>\n",
    "<link source=\"3\" target=\"D\"/>\n",
    "<link source=\"3\" target=\"E\"/>\n",
    "<link source=\"3\" target=\"F\"/>\n",
    "<link source=\"3\" target=\"G\"/>\n",
    "<link source=\"3\" target=\"H\"/>\n",
    "<link source=\"3\" target=\"I\"/>\n",
    "<link source=\"3\" target=\"L\"/>\n",
    "<link source=\"3\" target=\"M\"/>\n",
    "<link source=\"3\" target=\"N\"/>\n",
    "<link source=\"4\" target=\"1\"/>\n",
    "<link source=\"4\" target=\"3\"/>\n",
    "<link source=\"4\" target=\"4\"/>\n",
    "<link source=\"4\" target=\"5\"/>\n",
    "<link source=\"4\" target=\"6\"/>\n",
    "<link source=\"4\" target=\"7\"/>\n",
    "<link source=\"4\" target=\"8\"/>\n",
    "<link source=\"4\" target=\"12\"/>\n",
    "<link source=\"4\" target=\"16\"/>\n",
    "<link source=\"4\" target=\"17\"/>\n",
    "<link source=\"4\" target=\"18\"/>\n",
    "<link source=\"4\" target=\"A\"/>\n",
    "<link source=\"4\" target=\"D\"/>\n",
    "<link source=\"4\" target=\"E\"/>\n",
    "<link source=\"4\" target=\"F\"/>\n",
    "<link source=\"4\" target=\"G\"/>\n",
    "<link source=\"4\" target=\"H\"/>\n",
    "<link source=\"4\" target=\"I\"/>\n",
    "<link source=\"4\" target=\"L\"/>\n",
    "<link source=\"4\" target=\"M\"/>\n",
    "<link source=\"4\" target=\"N\"/>\n",
    "<link source=\"5\" target=\"1\"/>\n",
    "<link source=\"5\" target=\"3\"/>\n",
    "<link source=\"5\" target=\"4\"/>\n",
    "<link source=\"5\" target=\"5\"/>\n",
    "<link source=\"5\" target=\"6\"/>\n",
    "<link source=\"5\" target=\"18\"/>\n",
    "<link source=\"5\" target=\"A\"/>\n",
    "<link source=\"5\" target=\"B\"/>\n",
    "<link source=\"5\" target=\"D\"/>\n",
    "<link source=\"6\" target=\"1\"/>\n",
    "<link source=\"6\" target=\"3\"/>\n",
    "<link source=\"6\" target=\"4\"/>\n",
    "<link source=\"6\" target=\"5\"/>\n",
    "<link source=\"6\" target=\"6\"/>\n",
    "<link source=\"6\" target=\"8\"/>\n",
    "<link source=\"6\" target=\"18\"/>\n",
    "<link source=\"6\" target=\"A\"/>\n",
    "<link source=\"6\" target=\"B\"/>\n",
    "<link source=\"6\" target=\"C\"/>\n",
    "<link source=\"6\" target=\"D\"/>\n",
    "<link source=\"6\" target=\"F\"/>\n",
    "<link source=\"7\" target=\"1\"/>\n",
    "<link source=\"7\" target=\"3\"/>\n",
    "<link source=\"7\" target=\"4\"/>\n",
    "<link source=\"7\" target=\"7\"/>\n",
    "<link source=\"7\" target=\"15\"/>\n",
    "<link source=\"7\" target=\"18\"/>\n",
    "<link source=\"7\" target=\"M\"/>\n",
    "<link source=\"7\" target=\"N\"/>\n",
    "<link source=\"8\" target=\"1\"/>\n",
    "<link source=\"8\" target=\"3\"/>\n",
    "<link source=\"8\" target=\"4\"/>\n",
    "<link source=\"8\" target=\"6\"/>\n",
    "<link source=\"8\" target=\"8\"/>\n",
    "<link source=\"8\" target=\"9\"/>\n",
    "<link source=\"8\" target=\"18\"/>\n",
    "<link source=\"8\" target=\"F\"/>\n",
    "<link source=\"8\" target=\"G\"/>\n",
    "<link source=\"9\" target=\"1\"/>\n",
    "<link source=\"9\" target=\"8\"/>\n",
    "<link source=\"10\" target=\"1\"/>\n",
    "<link source=\"10\" target=\"11\"/>\n",
    "<link source=\"10\" target=\"13\"/>\n",
    "<link source=\"11\" target=\"1\"/>\n",
    "<link source=\"11\" target=\"10\"/>\n",
    "<link source=\"11\" target=\"13\"/>\n",
    "<link source=\"12\" target=\"1\"/>\n",
    "<link source=\"12\" target=\"3\"/>\n",
    "<link source=\"12\" target=\"4\"/>\n",
    "<link source=\"12\" target=\"12\"/>\n",
    "<link source=\"12\" target=\"17\"/>\n",
    "<link source=\"12\" target=\"E\"/>\n",
    "<link source=\"13\" target=\"1\"/>\n",
    "<link source=\"13\" target=\"10\"/>\n",
    "<link source=\"13\" target=\"11\"/>\n",
    "<link source=\"14\" target=\"1\"/>\n",
    "<link source=\"15\" target=\"1\"/>\n",
    "<link source=\"15\" target=\"7\"/>\n",
    "<link source=\"16\" target=\"1\"/>\n",
    "<link source=\"16\" target=\"3\"/>\n",
    "<link source=\"16\" target=\"4\"/>\n",
    "<link source=\"17\" target=\"1\"/>\n",
    "<link source=\"17\" target=\"3\"/>\n",
    "<link source=\"17\" target=\"4\"/>\n",
    "<link source=\"17\" target=\"12\"/>\n",
    "<link source=\"17\" target=\"17\"/>\n",
    "<link source=\"17\" target=\"E\"/>\n",
    "<link source=\"17\" target=\"L\"/>\n",
    "<link source=\"18\" target=\"1\"/>\n",
    "<link source=\"18\" target=\"3\"/>\n",
    "<link source=\"18\" target=\"4\"/>\n",
    "<link source=\"18\" target=\"5\"/>\n",
    "<link source=\"18\" target=\"6\"/>\n",
    "<link source=\"18\" target=\"7\"/>\n",
    "<link source=\"18\" target=\"8\"/>\n",
    "<link source=\"18\" target=\"18\"/>\n",
    "<link source=\"18\" target=\"B\"/>)\n",
    "''')"
   ]
  },
  {
   "cell_type": "code",
   "execution_count": 147,
   "id": "d45a0e84-870d-4292-a0ff-13897b1de61b",
   "metadata": {
    "tags": []
   },
   "outputs": [],
   "source": [
    "edgesfinal = [(\"1\", \"1\"), (\"1\", \"2\"), (\"1\", \"3\"), (\"1\", \"4\"), (\"1\", \"5\"), (\"1\", \"6\"), (\"1\", \"7\"), (\"1\", \"8\"), (\"1\", \"9\"), (\"1\", \"10\"), (\"1\", \"11\"), (\"1\", \"12\"), (\"1\", \"13\"), (\"1\", \"14\"), (\"1\", \"15\"), (\"1\", \"16\"), (\"1\", \"17\"), (\"1\", \"18\"), (\"1\", \"A\"), (\"1\", \"B\"), (\"1\", \"C\"), (\"1\", \"D\"), (\"1\", \"E\"), (\"1\", \"F\"), (\"1\", \"G\"), (\"1\", \"H\"), (\"1\", \"I\"), (\"1\", \"L\"), (\"1\", \"M\"), (\"1\", \"N\"), (\"2\", \"1\"), (\"3\", \"1\"), (\"3\", \"3\"), (\"3\", \"4\"), (\"3\", \"5\"), (\"3\", \"6\"), (\"3\", \"7\"), (\"3\", \"8\"), (\"3\", \"12\"), (\"3\", \"16\"), (\"3\", \"17\"), (\"3\", \"18\"), (\"3\", \"A\"), (\"3\", \"B\"), (\"3\", \"C\"), (\"3\", \"D\"), (\"3\", \"E\"), (\"3\", \"F\"), (\"3\", \"G\"), (\"3\", \"H\"), (\"3\", \"I\"), (\"3\", \"L\"), (\"3\", \"M\"), (\"3\", \"N\"), (\"4\", \"1\"), (\"4\", \"3\"), (\"4\", \"4\"), (\"4\", \"5\"), (\"4\", \"6\"), (\"4\", \"7\"), (\"4\", \"8\"), (\"4\", \"12\"), (\"4\", \"16\"), (\"4\", \"17\"), (\"4\", \"18\"), (\"4\", \"A\"), (\"4\", \"D\"), (\"4\", \"E\"), (\"4\", \"F\"), (\"4\", \"G\"), (\"4\", \"H\"), (\"4\", \"I\"), (\"4\", \"L\"), (\"4\", \"M\"), (\"4\", \"N\"), (\"5\", \"1\"), (\"5\", \"3\"), (\"5\", \"4\"), (\"5\", \"5\"), (\"5\", \"6\"), (\"5\", \"18\"), (\"5\", \"A\"), (\"5\", \"B\"), (\"5\", \"D\"), (\"6\", \"1\"), (\"6\", \"3\"), (\"6\", \"4\"), (\"6\", \"5\"), (\"6\", \"6\"), (\"6\", \"8\"), (\"6\", \"18\"), (\"6\", \"A\"), (\"6\", \"B\"), (\"6\", \"C\"), (\"6\", \"D\"), (\"6\", \"F\"), (\"7\", \"1\"), (\"7\", \"3\"), (\"7\", \"4\"), (\"7\", \"7\"), (\"7\", \"15\"), (\"7\", \"18\"), (\"7\", \"M\"), (\"7\", \"N\"), (\"8\", \"1\"), (\"8\", \"3\"), (\"8\", \"4\"), (\"8\", \"6\"), (\"8\", \"8\"), (\"8\", \"9\"), (\"8\", \"18\"), (\"8\", \"F\"), (\"8\", \"G\"), (\"9\", \"1\"), (\"9\", \"8\"), (\"10\", \"1\"), (\"10\", \"11\"), (\"10\", \"13\"), (\"11\", \"1\"), (\"11\", \"10\"), (\"11\", \"13\"), (\"12\", \"1\"), (\"12\", \"3\"), (\"12\", \"4\"), (\"12\", \"12\"), (\"12\", \"17\"), (\"12\", \"E\"), (\"13\", \"1\"), (\"13\", \"10\"), (\"13\", \"11\"), (\"14\", \"1\"), (\"15\", \"1\"), (\"15\", \"7\"), (\"16\", \"1\"), (\"16\", \"3\"), (\"16\", \"4\"), (\"17\", \"1\"), (\"17\", \"3\"), (\"17\", \"4\"), (\"17\", \"12\"), (\"17\", \"17\"), (\"17\", \"E\"), (\"17\", \"L\"), (\"18\", \"1\"), (\"18\", \"3\"), (\"18\", \"4\"), (\"18\", \"5\"), (\"18\", \"6\"), (\"18\", \"7\"), (\"18\", \"8\"), (\"18\", \"18\"), (\"18\", \"B\")]"
   ]
  },
  {
   "cell_type": "code",
   "execution_count": 148,
   "id": "9b9e6215-469f-4063-a389-6caa6e8b5181",
   "metadata": {
    "collapsed": true,
    "jupyter": {
     "outputs_hidden": true
    },
    "tags": []
   },
   "outputs": [
    {
     "name": "stdout",
     "output_type": "stream",
     "text": [
      "[('1', '1'), ('1', '2'), ('1', '3'), ('1', '4'), ('1', '5'), ('1', '6'), ('1', '7'), ('1', '8'), ('1', '9'), ('1', '10'), ('1', '11'), ('1', '12'), ('1', '13'), ('1', '14'), ('1', '15'), ('1', '16'), ('1', '17'), ('1', '18'), ('1', 'A'), ('1', 'B'), ('1', 'C'), ('1', 'D'), ('1', 'E'), ('1', 'F'), ('1', 'G'), ('1', 'H'), ('1', 'I'), ('1', 'L'), ('1', 'M'), ('1', 'N'), ('2', '1'), ('3', '1'), ('3', '3'), ('3', '4'), ('3', '5'), ('3', '6'), ('3', '7'), ('3', '8'), ('3', '12'), ('3', '16'), ('3', '17'), ('3', '18'), ('3', 'A'), ('3', 'B'), ('3', 'C'), ('3', 'D'), ('3', 'E'), ('3', 'F'), ('3', 'G'), ('3', 'H'), ('3', 'I'), ('3', 'L'), ('3', 'M'), ('3', 'N'), ('4', '1'), ('4', '3'), ('4', '4'), ('4', '5'), ('4', '6'), ('4', '7'), ('4', '8'), ('4', '12'), ('4', '16'), ('4', '17'), ('4', '18'), ('4', 'A'), ('4', 'D'), ('4', 'E'), ('4', 'F'), ('4', 'G'), ('4', 'H'), ('4', 'I'), ('4', 'L'), ('4', 'M'), ('4', 'N'), ('5', '1'), ('5', '3'), ('5', '4'), ('5', '5'), ('5', '6'), ('5', '18'), ('5', 'A'), ('5', 'B'), ('5', 'D'), ('6', '1'), ('6', '3'), ('6', '4'), ('6', '5'), ('6', '6'), ('6', '8'), ('6', '18'), ('6', 'A'), ('6', 'B'), ('6', 'C'), ('6', 'D'), ('6', 'F'), ('7', '1'), ('7', '3'), ('7', '4'), ('7', '7'), ('7', '15'), ('7', '18'), ('7', 'M'), ('7', 'N'), ('8', '1'), ('8', '3'), ('8', '4'), ('8', '6'), ('8', '8'), ('8', '9'), ('8', '18'), ('8', 'F'), ('8', 'G'), ('9', '1'), ('9', '8'), ('10', '1'), ('10', '11'), ('10', '13'), ('11', '1'), ('11', '10'), ('11', '13'), ('12', '1'), ('12', '3'), ('12', '4'), ('12', '12'), ('12', '17'), ('12', 'E'), ('13', '1'), ('13', '10'), ('13', '11'), ('14', '1'), ('15', '1'), ('15', '7'), ('16', '1'), ('16', '3'), ('16', '4'), ('17', '1'), ('17', '3'), ('17', '4'), ('17', '12'), ('17', '17'), ('17', 'E'), ('17', 'L'), ('18', '1'), ('18', '3'), ('18', '4'), ('18', '5'), ('18', '6'), ('18', '7'), ('18', '8'), ('18', '18'), ('18', 'B')]\n"
     ]
    }
   ],
   "source": [
    "print(edgesfinal)"
   ]
  },
  {
   "cell_type": "code",
   "execution_count": null,
   "id": "361c8def-9d34-4fb1-8501-292f0b7c1dcb",
   "metadata": {},
   "outputs": [],
   "source": []
  },
  {
   "cell_type": "code",
   "execution_count": null,
   "id": "6bca5805-68cf-4210-8881-6ce7d8489902",
   "metadata": {},
   "outputs": [],
   "source": [
    "fn = ' .edges'\n",
    "open(fn).readlines()[:15]\n",
    "G = nx.read_edglist(fn)\n",
    "print(nx.info(G))\n",
    "nx.draw_networkx(G,with_labels=False,node_size=2)"
   ]
  },
  {
   "cell_type": "code",
   "execution_count": 17,
   "id": "744ef7c5-e4a0-4709-bb3b-21097f62eacf",
   "metadata": {
    "collapsed": true,
    "jupyter": {
     "outputs_hidden": true
    },
    "tags": []
   },
   "outputs": [
    {
     "ename": "TypeError",
     "evalue": "'method' object is not iterable",
     "output_type": "error",
     "traceback": [
      "\u001b[1;31m---------------------------------------------------------------------------\u001b[0m",
      "\u001b[1;31mTypeError\u001b[0m                                 Traceback (most recent call last)",
      "Cell \u001b[1;32mIn[17], line 1\u001b[0m\n\u001b[1;32m----> 1\u001b[0m G \u001b[38;5;241m=\u001b[39m \u001b[43mnx\u001b[49m\u001b[38;5;241;43m.\u001b[39;49m\u001b[43mparse_gml\u001b[49m\u001b[43m(\u001b[49m\u001b[43mgml\u001b[49m\u001b[43m)\u001b[49m\n\u001b[0;32m      2\u001b[0m nx\u001b[38;5;241m.\u001b[39mdraw_networkx(G)\n",
      "File \u001b[1;32m~\\AppData\\Local\\Programs\\Python\\Python311\\Lib\\site-packages\\networkx\\readwrite\\gml.py:272\u001b[0m, in \u001b[0;36mparse_gml\u001b[1;34m(lines, label, destringizer)\u001b[0m\n\u001b[0;32m    269\u001b[0m                 \u001b[38;5;28;01mraise\u001b[39;00m NetworkXError(\u001b[38;5;124m\"\u001b[39m\u001b[38;5;124minput line contains newline\u001b[39m\u001b[38;5;124m\"\u001b[39m)\n\u001b[0;32m    270\u001b[0m             \u001b[38;5;28;01myield\u001b[39;00m line\n\u001b[1;32m--> 272\u001b[0m G \u001b[38;5;241m=\u001b[39m \u001b[43mparse_gml_lines\u001b[49m\u001b[43m(\u001b[49m\u001b[43mfilter_lines\u001b[49m\u001b[43m(\u001b[49m\u001b[43mlines\u001b[49m\u001b[43m)\u001b[49m\u001b[43m,\u001b[49m\u001b[43m \u001b[49m\u001b[43mlabel\u001b[49m\u001b[43m,\u001b[49m\u001b[43m \u001b[49m\u001b[43mdestringizer\u001b[49m\u001b[43m)\u001b[49m\n\u001b[0;32m    273\u001b[0m \u001b[38;5;28;01mreturn\u001b[39;00m G\n",
      "File \u001b[1;32m~\\AppData\\Local\\Programs\\Python\\Python311\\Lib\\site-packages\\networkx\\readwrite\\gml.py:438\u001b[0m, in \u001b[0;36mparse_gml_lines\u001b[1;34m(lines, label, destringizer)\u001b[0m\n\u001b[0;32m    435\u001b[0m     \u001b[38;5;28;01mreturn\u001b[39;00m graph\n\u001b[0;32m    437\u001b[0m tokens \u001b[38;5;241m=\u001b[39m tokenize()\n\u001b[1;32m--> 438\u001b[0m graph \u001b[38;5;241m=\u001b[39m \u001b[43mparse_graph\u001b[49m\u001b[43m(\u001b[49m\u001b[43m)\u001b[49m\n\u001b[0;32m    440\u001b[0m directed \u001b[38;5;241m=\u001b[39m graph\u001b[38;5;241m.\u001b[39mpop(\u001b[38;5;124m\"\u001b[39m\u001b[38;5;124mdirected\u001b[39m\u001b[38;5;124m\"\u001b[39m, \u001b[38;5;28;01mFalse\u001b[39;00m)\n\u001b[0;32m    441\u001b[0m multigraph \u001b[38;5;241m=\u001b[39m graph\u001b[38;5;241m.\u001b[39mpop(\u001b[38;5;124m\"\u001b[39m\u001b[38;5;124mmultigraph\u001b[39m\u001b[38;5;124m\"\u001b[39m, \u001b[38;5;28;01mFalse\u001b[39;00m)\n",
      "File \u001b[1;32m~\\AppData\\Local\\Programs\\Python\\Python311\\Lib\\site-packages\\networkx\\readwrite\\gml.py:427\u001b[0m, in \u001b[0;36mparse_gml_lines.<locals>.parse_graph\u001b[1;34m()\u001b[0m\n\u001b[0;32m    426\u001b[0m \u001b[38;5;28;01mdef\u001b[39;00m \u001b[38;5;21mparse_graph\u001b[39m():\n\u001b[1;32m--> 427\u001b[0m     curr_token, dct \u001b[38;5;241m=\u001b[39m parse_kv(\u001b[38;5;28;43mnext\u001b[39;49m\u001b[43m(\u001b[49m\u001b[43mtokens\u001b[49m\u001b[43m)\u001b[49m)\n\u001b[0;32m    428\u001b[0m     \u001b[38;5;28;01mif\u001b[39;00m curr_token\u001b[38;5;241m.\u001b[39mcategory \u001b[38;5;129;01mis\u001b[39;00m \u001b[38;5;129;01mnot\u001b[39;00m \u001b[38;5;28;01mNone\u001b[39;00m:  \u001b[38;5;66;03m# EOF\u001b[39;00m\n\u001b[0;32m    429\u001b[0m         unexpected(curr_token, \u001b[38;5;124m\"\u001b[39m\u001b[38;5;124mEOF\u001b[39m\u001b[38;5;124m\"\u001b[39m)\n",
      "File \u001b[1;32m~\\AppData\\Local\\Programs\\Python\\Python311\\Lib\\site-packages\\networkx\\readwrite\\gml.py:314\u001b[0m, in \u001b[0;36mparse_gml_lines.<locals>.tokenize\u001b[1;34m()\u001b[0m\n\u001b[0;32m    312\u001b[0m tokens \u001b[38;5;241m=\u001b[39m re\u001b[38;5;241m.\u001b[39mcompile(\u001b[38;5;124m\"\u001b[39m\u001b[38;5;124m|\u001b[39m\u001b[38;5;124m\"\u001b[39m\u001b[38;5;241m.\u001b[39mjoin(\u001b[38;5;124mf\u001b[39m\u001b[38;5;124m\"\u001b[39m\u001b[38;5;124m(\u001b[39m\u001b[38;5;132;01m{\u001b[39;00mpattern\u001b[38;5;132;01m}\u001b[39;00m\u001b[38;5;124m)\u001b[39m\u001b[38;5;124m\"\u001b[39m \u001b[38;5;28;01mfor\u001b[39;00m pattern \u001b[38;5;129;01min\u001b[39;00m patterns))\n\u001b[0;32m    313\u001b[0m lineno \u001b[38;5;241m=\u001b[39m \u001b[38;5;241m0\u001b[39m\n\u001b[1;32m--> 314\u001b[0m \u001b[38;5;28;01mfor\u001b[39;00m line \u001b[38;5;129;01min\u001b[39;00m lines:\n\u001b[0;32m    315\u001b[0m     length \u001b[38;5;241m=\u001b[39m \u001b[38;5;28mlen\u001b[39m(line)\n\u001b[0;32m    316\u001b[0m     pos \u001b[38;5;241m=\u001b[39m \u001b[38;5;241m0\u001b[39m\n",
      "File \u001b[1;32m~\\AppData\\Local\\Programs\\Python\\Python311\\Lib\\site-packages\\networkx\\readwrite\\gml.py:264\u001b[0m, in \u001b[0;36mparse_gml.<locals>.filter_lines\u001b[1;34m(lines)\u001b[0m\n\u001b[0;32m    262\u001b[0m     \u001b[38;5;28;01myield from\u001b[39;00m lines\n\u001b[0;32m    263\u001b[0m \u001b[38;5;28;01melse\u001b[39;00m:\n\u001b[1;32m--> 264\u001b[0m     \u001b[38;5;28;01mfor\u001b[39;00m line \u001b[38;5;129;01min\u001b[39;00m lines:\n\u001b[0;32m    265\u001b[0m         line \u001b[38;5;241m=\u001b[39m decode_line(line)\n\u001b[0;32m    266\u001b[0m         \u001b[38;5;28;01mif\u001b[39;00m line \u001b[38;5;129;01mand\u001b[39;00m line[\u001b[38;5;241m-\u001b[39m\u001b[38;5;241m1\u001b[39m] \u001b[38;5;241m==\u001b[39m \u001b[38;5;124m\"\u001b[39m\u001b[38;5;130;01m\\n\u001b[39;00m\u001b[38;5;124m\"\u001b[39m:\n",
      "\u001b[1;31mTypeError\u001b[0m: 'method' object is not iterable"
     ]
    }
   ],
   "source": [
    "G = nx.parse_gml(gml)\n",
    "nx.draw_networkx(nodes, auto)"
   ]
  },
  {
   "cell_type": "code",
   "execution_count": 113,
   "id": "56376814-5862-40d6-81e4-d68a9b0c4377",
   "metadata": {
    "tags": []
   },
   "outputs": [],
   "source": [
    "G = nx.Graph()"
   ]
  },
  {
   "cell_type": "code",
   "execution_count": 150,
   "id": "b0eaab53-6f98-4cd3-abb8-a0bde60859aa",
   "metadata": {
    "tags": []
   },
   "outputs": [],
   "source": [
    "G.add_edges_from(edgesfinal)"
   ]
  },
  {
   "cell_type": "code",
   "execution_count": 187,
   "id": "d3e46a85-3eef-44c5-8a6a-8a8773906227",
   "metadata": {
    "jupyter": {
     "source_hidden": true
    },
    "tags": []
   },
   "outputs": [],
   "source": [
    "nodes = [\n",
    "{node:\"1\"},\n",
    "{node:\"2\"},\n",
    "{node:\"3\"},\n",
    "{node:\"4\"},\n",
    "{node:\"5\"},\n",
    "{node:\"6\"},\n",
    "{node:\"7\"},\n",
    "{node:\"8\"},\n",
    "{node:\"9\"},\n",
    "{node:\"10\"},\n",
    "{node:\"11\"},\n",
    "{node:\"12\"},\n",
    "{node:\"13\"},\n",
    "{node:\"14\"},\n",
    "{node:\"15\"},\n",
    "{node:\"16\"},\n",
    "{node:\"17\"},\n",
    "{node:\"18\"},\n",
    "{node:\"A\"},\n",
    "{node:\"B\"},\n",
    "{node:\"C\"},\n",
    "{node:\"D\"},\n",
    "{node:\"E\"},\n",
    "{node:\"F\"},\n",
    "{node:\"G\"},\n",
    "{node:\"H\"},\n",
    "{node:\"I\"},\n",
    "{node:\"L\"},\n",
    "{node:\"M\"},\n",
    "{node:\"N\"}]"
   ]
  },
  {
   "cell_type": "code",
   "execution_count": 154,
   "id": "c9eb446c-d86e-48e3-9d75-adf9fdea9824",
   "metadata": {
    "tags": []
   },
   "outputs": [],
   "source": [
    "nodes = [list(node.keys())[0] for node in nodes]"
   ]
  },
  {
   "cell_type": "code",
   "execution_count": 197,
   "id": "affc1850-81b2-44c5-a7f2-f31f1b9da6b1",
   "metadata": {
    "tags": []
   },
   "outputs": [
    {
     "ename": "ValueError",
     "evalue": "dictionary update sequence element #0 has length 1; 2 is required",
     "output_type": "error",
     "traceback": [
      "\u001b[1;31m---------------------------------------------------------------------------\u001b[0m",
      "\u001b[1;31mTypeError\u001b[0m                                 Traceback (most recent call last)",
      "File \u001b[1;32m~\\AppData\\Local\\Programs\\Python\\Python311\\Lib\\site-packages\\networkx\\classes\\graph.py:626\u001b[0m, in \u001b[0;36mGraph.add_nodes_from\u001b[1;34m(self, nodes_for_adding, **attr)\u001b[0m\n\u001b[0;32m    625\u001b[0m \u001b[38;5;28;01mtry\u001b[39;00m:\n\u001b[1;32m--> 626\u001b[0m     newnode \u001b[38;5;241m=\u001b[39m \u001b[43mn\u001b[49m\u001b[43m \u001b[49m\u001b[38;5;129;43;01mnot\u001b[39;49;00m\u001b[43m \u001b[49m\u001b[38;5;129;43;01min\u001b[39;49;00m\u001b[43m \u001b[49m\u001b[38;5;28;43mself\u001b[39;49m\u001b[38;5;241;43m.\u001b[39;49m\u001b[43m_node\u001b[49m\n\u001b[0;32m    627\u001b[0m     newdict \u001b[38;5;241m=\u001b[39m attr\n",
      "\u001b[1;31mTypeError\u001b[0m: unhashable type: 'dict'",
      "\nDuring handling of the above exception, another exception occurred:\n",
      "\u001b[1;31mValueError\u001b[0m                                Traceback (most recent call last)",
      "Cell \u001b[1;32mIn[197], line 1\u001b[0m\n\u001b[1;32m----> 1\u001b[0m \u001b[43mG\u001b[49m\u001b[38;5;241;43m.\u001b[39;49m\u001b[43madd_nodes_from\u001b[49m\u001b[43m(\u001b[49m\u001b[43mnodes\u001b[49m\u001b[43m)\u001b[49m\n",
      "File \u001b[1;32m~\\AppData\\Local\\Programs\\Python\\Python311\\Lib\\site-packages\\networkx\\classes\\graph.py:632\u001b[0m, in \u001b[0;36mGraph.add_nodes_from\u001b[1;34m(self, nodes_for_adding, **attr)\u001b[0m\n\u001b[0;32m    630\u001b[0m     newnode \u001b[38;5;241m=\u001b[39m n \u001b[38;5;129;01mnot\u001b[39;00m \u001b[38;5;129;01min\u001b[39;00m \u001b[38;5;28mself\u001b[39m\u001b[38;5;241m.\u001b[39m_node\n\u001b[0;32m    631\u001b[0m     newdict \u001b[38;5;241m=\u001b[39m attr\u001b[38;5;241m.\u001b[39mcopy()\n\u001b[1;32m--> 632\u001b[0m     \u001b[43mnewdict\u001b[49m\u001b[38;5;241;43m.\u001b[39;49m\u001b[43mupdate\u001b[49m\u001b[43m(\u001b[49m\u001b[43mndict\u001b[49m\u001b[43m)\u001b[49m\n\u001b[0;32m    633\u001b[0m \u001b[38;5;28;01mif\u001b[39;00m newnode:\n\u001b[0;32m    634\u001b[0m     \u001b[38;5;28;01mif\u001b[39;00m n \u001b[38;5;129;01mis\u001b[39;00m \u001b[38;5;28;01mNone\u001b[39;00m:\n",
      "\u001b[1;31mValueError\u001b[0m: dictionary update sequence element #0 has length 1; 2 is required"
     ]
    }
   ],
   "source": [
    "G.add_nodes_from(nodes)"
   ]
  },
  {
   "cell_type": "code",
   "execution_count": 170,
   "id": "12a72d50-599c-4e4f-b3ab-60978104e0ba",
   "metadata": {
    "tags": []
   },
   "outputs": [
    {
     "data": {
      "image/png": "[encoded data removed]",
      "text/plain": [
       "<Figure size 640x480 with 1 Axes>"
      ]
     },
     "metadata": {},
     "output_type": "display_data"
    }
   ],
   "source": [
    "nx.draw_networkx(G,with_labels=True,node_size=2)"
   ]
  },
  {
   "cell_type": "code",
   "execution_count": 200,
   "id": "13acc955-7a4f-4d91-8211-3a43ff08d7eb",
   "metadata": {
    "tags": []
   },
   "outputs": [],
   "source": [
    "options = {\n",
    "    'node_color': 'red',\n",
    "    'node_size': 50,\n",
    "    'linewidths': 1,\n",
    "    'width': 0.1,\n",
    "}\n"
   ]
  },
  {
   "cell_type": "code",
   "execution_count": 201,
   "id": "584a0812-af2b-436d-a456-bce40720b27b",
   "metadata": {
    "tags": []
   },
   "outputs": [
    {
     "data": {
      "image/png": "[encoded data removed]",
      "text/plain": [
       "<Figure size 640x480 with 1 Axes>"
      ]
     },
     "metadata": {},
     "output_type": "display_data"
    }
   ],
   "source": [
    "nx.draw_networkx(G, **options)"
   ]
  },
  {
   "cell_type": "code",
   "execution_count": 164,
   "id": "9ac57ff4-713b-4bcd-8c6c-17f99ae454b1",
   "metadata": {
    "tags": []
   },
   "outputs": [
    {
     "name": "stdout",
     "output_type": "stream",
     "text": [
      "['1', '2', '3', '4', '5', '6', '7', '8', '9', '10', '11', '12', '13', '14', '15', '16', '17', '18', 'A', 'B', 'C', 'D', 'E', 'F', 'G', 'H', 'I', 'L', 'M', 'N', <Element 'node' at 0x00000111685A61B0>]\n"
     ]
    }
   ],
   "source": [
    "print(G.nodes())"
   ]
  },
  {
   "cell_type": "code",
   "execution_count": 177,
   "id": "b52f7cc6-0c2e-46cb-aba9-99a20dfd7fab",
   "metadata": {
    "collapsed": true,
    "jupyter": {
     "outputs_hidden": true
    },
    "tags": []
   },
   "outputs": [
    {
     "ename": "NetworkXError",
     "evalue": "The node <Element 'node' at 0x00000111685A61B0> is not in the graph.",
     "output_type": "error",
     "traceback": [
      "\u001b[1;31m---------------------------------------------------------------------------\u001b[0m",
      "\u001b[1;31mKeyError\u001b[0m                                  Traceback (most recent call last)",
      "File \u001b[1;32m~\\AppData\\Local\\Programs\\Python\\Python311\\Lib\\site-packages\\networkx\\classes\\graph.py:672\u001b[0m, in \u001b[0;36mGraph.remove_node\u001b[1;34m(self, n)\u001b[0m\n\u001b[0;32m    671\u001b[0m \u001b[38;5;28;01mtry\u001b[39;00m:\n\u001b[1;32m--> 672\u001b[0m     nbrs \u001b[38;5;241m=\u001b[39m \u001b[38;5;28mlist\u001b[39m(\u001b[43madj\u001b[49m\u001b[43m[\u001b[49m\u001b[43mn\u001b[49m\u001b[43m]\u001b[49m)  \u001b[38;5;66;03m# list handles self-loops (allows mutation)\u001b[39;00m\n\u001b[0;32m    673\u001b[0m     \u001b[38;5;28;01mdel\u001b[39;00m \u001b[38;5;28mself\u001b[39m\u001b[38;5;241m.\u001b[39m_node[n]\n",
      "\u001b[1;31mKeyError\u001b[0m: \"<Element 'node' at 0x00000111685A61B0>\"",
      "\nThe above exception was the direct cause of the following exception:\n",
      "\u001b[1;31mNetworkXError\u001b[0m                             Traceback (most recent call last)",
      "Cell \u001b[1;32mIn[177], line 1\u001b[0m\n\u001b[1;32m----> 1\u001b[0m \u001b[43mG\u001b[49m\u001b[38;5;241;43m.\u001b[39;49m\u001b[43mremove_node\u001b[49m\u001b[43m(\u001b[49m\u001b[38;5;124;43m\"\u001b[39;49m\u001b[38;5;124;43m<Element \u001b[39;49m\u001b[38;5;124;43m'\u001b[39;49m\u001b[38;5;124;43mnode\u001b[39;49m\u001b[38;5;124;43m'\u001b[39;49m\u001b[38;5;124;43m at 0x00000111685A61B0>\u001b[39;49m\u001b[38;5;124;43m\"\u001b[39;49m\u001b[43m)\u001b[49m\n",
      "File \u001b[1;32m~\\AppData\\Local\\Programs\\Python\\Python311\\Lib\\site-packages\\networkx\\classes\\graph.py:675\u001b[0m, in \u001b[0;36mGraph.remove_node\u001b[1;34m(self, n)\u001b[0m\n\u001b[0;32m    673\u001b[0m     \u001b[38;5;28;01mdel\u001b[39;00m \u001b[38;5;28mself\u001b[39m\u001b[38;5;241m.\u001b[39m_node[n]\n\u001b[0;32m    674\u001b[0m \u001b[38;5;28;01mexcept\u001b[39;00m \u001b[38;5;167;01mKeyError\u001b[39;00m \u001b[38;5;28;01mas\u001b[39;00m err:  \u001b[38;5;66;03m# NetworkXError if n not in self\u001b[39;00m\n\u001b[1;32m--> 675\u001b[0m     \u001b[38;5;28;01mraise\u001b[39;00m NetworkXError(\u001b[38;5;124mf\u001b[39m\u001b[38;5;124m\"\u001b[39m\u001b[38;5;124mThe node \u001b[39m\u001b[38;5;132;01m{\u001b[39;00mn\u001b[38;5;132;01m}\u001b[39;00m\u001b[38;5;124m is not in the graph.\u001b[39m\u001b[38;5;124m\"\u001b[39m) \u001b[38;5;28;01mfrom\u001b[39;00m \u001b[38;5;21;01merr\u001b[39;00m\n\u001b[0;32m    676\u001b[0m \u001b[38;5;28;01mfor\u001b[39;00m u \u001b[38;5;129;01min\u001b[39;00m nbrs:\n\u001b[0;32m    677\u001b[0m     \u001b[38;5;28;01mdel\u001b[39;00m adj[u][n]  \u001b[38;5;66;03m# remove all edges n-u in graph\u001b[39;00m\n",
      "\u001b[1;31mNetworkXError\u001b[0m: The node <Element 'node' at 0x00000111685A61B0> is not in the graph."
     ]
    }
   ],
   "source": [
    "G.remove_node(\"<Element 'node' at 0x00000111685A61B0>\")"
   ]
  },
  {
   "cell_type": "code",
   "execution_count": 202,
   "id": "41934b88-0016-4b81-bb14-7128ecc2b2f7",
   "metadata": {
    "tags": []
   },
   "outputs": [
    {
     "data": {
      "text/plain": [
       "0.7733633431338484"
      ]
     },
     "execution_count": 202,
     "metadata": {},
     "output_type": "execute_result"
    }
   ],
   "source": [
    "nx.average_clustering(G)\n"
   ]
  },
  {
   "cell_type": "code",
   "execution_count": 204,
   "id": "aa0e2ff6-dc14-46e3-af3c-beb4cbd021cc",
   "metadata": {
    "tags": []
   },
   "outputs": [
    {
     "data": {
      "text/plain": [
       "{'1': 0.5102298850574712,\n",
       " '2': 0.0,\n",
       " '3': 0.13206896551724134,\n",
       " '4': 0.0980842911877395,\n",
       " '5': 0.002988505747126437,\n",
       " '6': 0.01425287356321839,\n",
       " '7': 0.007471264367816092,\n",
       " '8': 0.009080459770114943,\n",
       " '9': 0.0,\n",
       " '10': 0.0,\n",
       " '11': 0.0,\n",
       " '12': 0.0,\n",
       " '13': 0.0,\n",
       " '14': 0.0,\n",
       " '15': 0.0,\n",
       " '16': 0.0,\n",
       " '17': 0.0011494252873563218,\n",
       " '18': 0.003984674329501916,\n",
       " 'A': 0.0,\n",
       " 'B': 0.0,\n",
       " 'C': 0.0,\n",
       " 'D': 0.0,\n",
       " 'E': 0.0,\n",
       " 'F': 0.0,\n",
       " 'G': 0.0,\n",
       " 'H': 0.0,\n",
       " 'I': 0.0,\n",
       " 'L': 0.0,\n",
       " 'M': 0.0,\n",
       " 'N': 0.0,\n",
       " <Element 'node' at 0x00000111685A61B0>: 0.0}"
      ]
     },
     "execution_count": 204,
     "metadata": {},
     "output_type": "execute_result"
    }
   ],
   "source": [
    "nx.betweenness_centrality(G)\n"
   ]
  },
  {
   "cell_type": "code",
   "execution_count": 205,
   "id": "84aea387-3a1c-439d-9e1a-90b9ca970821",
   "metadata": {
    "tags": []
   },
   "outputs": [
    {
     "data": {
      "text/plain": [
       "{'1': 1.0333333333333332,\n",
       " '2': 0.03333333333333333,\n",
       " '3': 0.8,\n",
       " '4': 0.7333333333333333,\n",
       " '5': 0.3333333333333333,\n",
       " '6': 0.43333333333333335,\n",
       " '7': 0.3,\n",
       " '8': 0.3333333333333333,\n",
       " '9': 0.06666666666666667,\n",
       " '10': 0.1,\n",
       " '11': 0.1,\n",
       " '12': 0.23333333333333334,\n",
       " '13': 0.1,\n",
       " '14': 0.03333333333333333,\n",
       " '15': 0.06666666666666667,\n",
       " '16': 0.1,\n",
       " '17': 0.26666666666666666,\n",
       " '18': 0.3333333333333333,\n",
       " 'A': 0.16666666666666666,\n",
       " 'B': 0.16666666666666666,\n",
       " 'C': 0.1,\n",
       " 'D': 0.16666666666666666,\n",
       " 'E': 0.16666666666666666,\n",
       " 'F': 0.16666666666666666,\n",
       " 'G': 0.13333333333333333,\n",
       " 'H': 0.1,\n",
       " 'I': 0.1,\n",
       " 'L': 0.13333333333333333,\n",
       " 'M': 0.13333333333333333,\n",
       " 'N': 0.13333333333333333,\n",
       " <Element 'node' at 0x00000111685A61B0>: 0.0}"
      ]
     },
     "execution_count": 205,
     "metadata": {},
     "output_type": "execute_result"
    }
   ],
   "source": [
    "nx.degree_centrality(G)\n"
   ]
  },
  {
   "cell_type": "code",
   "execution_count": 206,
   "id": "ca1131f1-a48f-4009-8a16-ed59eca72b01",
   "metadata": {
    "tags": []
   },
   "outputs": [
    {
     "data": {
      "text/plain": [
       "{'1': 0.42581752969552733,\n",
       " '2': 0.03936834649462186,\n",
       " '3': 0.39460533546028176,\n",
       " '4': 0.3724026540383056,\n",
       " '5': 0.2163030460634185,\n",
       " '6': 0.2586696852581293,\n",
       " '7': 0.1756783280933039,\n",
       " '8': 0.20530275103468393,\n",
       " '9': 0.05834937017795516,\n",
       " '10': 0.04829936358924242,\n",
       " '11': 0.04829936358924242,\n",
       " '12': 0.1524423194604808,\n",
       " '13': 0.04829936358924242,\n",
       " '14': 0.03936834649462186,\n",
       " '15': 0.055610517486893905,\n",
       " '16': 0.11028094411726228,\n",
       " '17': 0.16404046715335227,\n",
       " '18': 0.22301453327032603,\n",
       " 'A': 0.15419389756619034,\n",
       " 'B': 0.14038248752131757,\n",
       " 'C': 0.09976593136546712,\n",
       " 'D': 0.15419389756619034,\n",
       " 'E': 0.13954113108036556,\n",
       " 'F': 0.15317690506320272,\n",
       " 'G': 0.12926196780059557,\n",
       " 'H': 0.11028094411726228,\n",
       " 'I': 0.11028094411726228,\n",
       " 'L': 0.12544718102150745,\n",
       " 'M': 0.12652311510953432,\n",
       " 'N': 0.12652311510953432,\n",
       " <Element 'node' at 0x00000111685A61B0>: 2.4801839041894e-15}"
      ]
     },
     "execution_count": 206,
     "metadata": {},
     "output_type": "execute_result"
    }
   ],
   "source": [
    "nx.eigenvector_centrality(G)\n"
   ]
  },
  {
   "cell_type": "code",
   "execution_count": 208,
   "id": "7c2153b0-cc74-465b-b688-b6c357928941",
   "metadata": {
    "tags": []
   },
   "outputs": [
    {
     "data": {
      "text/plain": [
       "{'1': array([-0.02159681, -0.01224907]),\n",
       " '2': array([ 0.16031308, -0.12344015]),\n",
       " '3': array([-0.0762527 , -0.01505673]),\n",
       " '4': array([-0.06197553, -0.00172785]),\n",
       " '5': array([-0.08313124, -0.13769932]),\n",
       " '6': array([-0.11389234, -0.07802513]),\n",
       " '7': array([ 0.01979862, -0.08054745]),\n",
       " '8': array([-0.15507616, -0.05236431]),\n",
       " '9': array([-0.23433682, -0.0786754 ]),\n",
       " '10': array([0.1573517 , 0.08455886]),\n",
       " '11': array([ 0.18226272, -0.00064272]),\n",
       " '12': array([-0.12064468,  0.09123623]),\n",
       " '13': array([0.18101775, 0.0456294 ]),\n",
       " '14': array([0.07504267, 0.17907287]),\n",
       " '15': array([ 0.07875081, -0.17251083]),\n",
       " '16': array([ 0.05809336, -0.0568321 ]),\n",
       " '17': array([-0.06516449,  0.09485872]),\n",
       " '18': array([-0.08457663, -0.10189321]),\n",
       " 'A': array([-0.14963936, -0.10071978]),\n",
       " 'B': array([-0.12242903, -0.15634047]),\n",
       " 'C': array([-0.15379116,  0.02119545]),\n",
       " 'D': array([-0.02768281, -0.13008549]),\n",
       " 'E': array([-0.09841599,  0.12267303]),\n",
       " 'F': array([-0.052787 , -0.0861777]),\n",
       " 'G': array([-0.18734901, -0.000419  ]),\n",
       " 'H': array([-0.16579578,  0.07085019]),\n",
       " 'I': array([-0.02817501,  0.12160028]),\n",
       " 'L': array([-0.00058363,  0.08670096]),\n",
       " 'M': array([0.0368437 , 0.03051168]),\n",
       " 'N': array([ 0.05382179, -0.01220112]),\n",
       " <Element 'node' at 0x00000111685A61B0>: array([1.        , 0.44872017])}"
      ]
     },
     "execution_count": 208,
     "metadata": {},
     "output_type": "execute_result"
    }
   ],
   "source": [
    "nx.spring_layout(G)"
   ]
  },
  {
   "cell_type": "code",
   "execution_count": 210,
   "id": "adb1638b-eaa4-4e34-9b90-8229c5b070b6",
   "metadata": {
    "collapsed": true,
    "jupyter": {
     "outputs_hidden": true
    },
    "tags": []
   },
   "outputs": [
    {
     "data": {
      "text/plain": [
       "\"\\n'1' appears to be the the ideal target within the organization with a betweenness_centrality of 0.51 and a\\ndegree_centrality score of 1.03.\\n\\n\\n\\n\\n\""
      ]
     },
     "execution_count": 210,
     "metadata": {},
     "output_type": "execute_result"
    }
   ],
   "source": [
    "## CONCLUSION\n",
    "\"\"\"\n",
    "'1' appears to be the ideal target within the organization with a betweenness_centrality of 0.51 and a\n",
    "degree_centrality score of 1.03.\n",
    "\n",
    "\n",
    "\"\"\""
   ]
  },
  {
   "cell_type": "code",
   "execution_count": null,
   "id": "8ae149e6-7fa6-48fa-b681-b9a8fd437b85",
   "metadata": {},
   "outputs": [],
   "source": []
  }
 ],
 "metadata": {
  "kernelspec": {
   "display_name": "Python 3 (ipykernel)",
   "language": "python",
   "name": "python3"
  },
  "language_info": {
   "codemirror_mode": {
    "name": "ipython",
    "version": 3
   },
   "file_extension": ".py",
   "mimetype": "text/x-python",
   "name": "python",
   "nbconvert_exporter": "python",
   "pygments_lexer": "ipython3",
   "version": "3.11.1"
  }
 },
 "nbformat": 4,
 "nbformat_minor": 5
}
